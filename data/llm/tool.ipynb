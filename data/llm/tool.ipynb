{
 "cells": [
  {
   "cell_type": "code",
   "execution_count": 3,
   "metadata": {},
   "outputs": [
    {
     "name": "stdout",
     "output_type": "stream",
     "text": [
      "{'id': 'apple/openelm-1_1b-instruct', 'name': 'OpenELM-1_1B-Instruct', 'release_date': '2024-04-22', 'from': 'apple', 'usage_type': 'GP-LLM', 'description': '', 'readme': {'link': 'https://huggingface.co/apple/OpenELM-1_1B-Instruct/blob/main/README.md', 'raw': 'https://huggingface.co/apple/OpenELM-1_1B-Instruct/raw/main/README.md'}, 'model': {'architecture': 'Transformer', 'subtype': 'decoder-only', 'insights': ['layer-wise-scaling', 'flash-attention'], 'parameters': '1.1B', 'active_parameters': '1.1B', 'context_size': '2048', 'tokenizer': 'SentencePiece', 'hidden_size': '2048', 'vocab_size': '32000', 'positional_embedding': 'RoPE', 'attention_variant': 'grouped-query attention', 'activation': 'SwiGLU'}, 'training': {'tokens': '1.8T'}, 'license': 'Apple-sample-code-license', 'license_url': 'https://huggingface.co/apple/OpenELM-1_1B-Instruct/blob/main/LICENSE', 'download': 'https://huggingface.co/apple/OpenELM-1_1B-Instruct', 'paper': 'https://arxiv.org/pdf/2404.14619', 'bonus': [{'type': 'repo', 'title': 'CoreNet Repository', 'url': 'https://github.com/apple/corenet'}], 'updated': '2024-05-25'}\n",
      "---\n",
      "{'id': 'apple/openelm-1_1b', 'name': 'OpenELM-1_1B', 'release_date': '2024-04-22', 'from': 'apple', 'usage_type': 'GP-LLM', 'description': '', 'readme': {'link': 'https://huggingface.co/apple/OpenELM-1_1B/blob/main/README.md', 'raw': 'https://huggingface.co/apple/OpenELM-1_1B/raw/main/README.md'}, 'model': {'architecture': 'Transformer', 'subtype': 'decoder-only', 'insights': ['layer-wise-scaling', 'flash-attention'], 'parameters': '1.1B', 'active_parameters': '1.1B', 'context_size': '2048', 'tokenizer': 'SentencePiece', 'hidden_size': '2048', 'vocab_size': '32000', 'positional_embedding': 'RoPE', 'attention_variant': 'grouped-query attention', 'activation': 'SwiGLU'}, 'training': {'tokens': '1.8T'}, 'license': 'Apple-sample-code-license', 'license_url': 'https://huggingface.co/apple/OpenELM-1_1B/blob/main/LICENSE', 'download': 'https://huggingface.co/apple/OpenELM-1_1B', 'paper': 'https://arxiv.org/pdf/2404.14619', 'bonus': [{'type': 'repo', 'title': 'CoreNet Repository', 'url': 'https://github.com/apple/corenet'}], 'updated': '2024-05-25', 'date': '2024-05-25'}\n",
      "---\n",
      "{'id': 'apple/openelm-270m-instruct', 'name': 'OpenELM-270M-Instruct', 'release_date': '2024-04-22', 'from': 'apple', 'usage_type': 'GP-LLM', 'description': '', 'readme': {'link': 'https://huggingface.co/apple/OpenELM-270M-Instruct/blob/main/README.md', 'raw': 'https://huggingface.co/apple/OpenELM-270M-Instruct/raw/main/README.md'}, 'model': {'architecture': 'Transformer', 'subtype': 'decoder-only', 'insights': ['layer-wise-scaling', 'flash-attention'], 'parameters': '270M', 'active_parameters': '270M', 'context_size': '2048', 'tokenizer': 'SentencePiece', 'hidden_size': '1280', 'vocab_size': '32000', 'positional_embedding': 'RoPE', 'attention_variant': 'grouped-query attention', 'activation': 'SwiGLU'}, 'training': {'tokens': '1.8T'}, 'license': 'Apple-sample-code-license', 'license_url': 'https://huggingface.co/apple/OpenELM-270M-Instruct/blob/main/LICENSE', 'download': 'https://huggingface.co/apple/OpenELM-270M-Instruct', 'paper': 'https://arxiv.org/pdf/2404.14619', 'bonus': [{'type': 'repo', 'title': 'CoreNet Repository', 'url': 'https://github.com/apple/corenet'}], 'updated': '2024-05-25', 'date': '2024-05-25'}\n",
      "---\n",
      "{'id': 'apple/openelm-270m', 'name': 'OpenELM-270M', 'release_date': '2024-04-22', 'from': 'apple', 'usage_type': 'GP-LLM', 'description': '', 'readme': {'link': 'https://huggingface.co/apple/OpenELM-270M/blob/main/README.md', 'raw': 'https://huggingface.co/apple/OpenELM-270M/raw/main/README.md'}, 'model': {'architecture': 'Transformer', 'subtype': 'decoder-only', 'insights': ['layer-wise-scaling', 'flash-attention'], 'parameters': '270M', 'active_parameters': '270M', 'context_size': '2048', 'tokenizer': 'SentencePiece', 'hidden_size': '1280', 'vocab_size': '32000', 'positional_embedding': 'RoPE', 'attention_variant': 'grouped-query attention', 'activation': 'SwiGLU'}, 'training': {'tokens': '1.8T'}, 'license': 'Apple-sample-code-license', 'license_url': 'https://huggingface.co/apple/OpenELM-270M/blob/main/LICENSE', 'download': 'https://huggingface.co/apple/OpenELM-270M', 'paper': 'https://arxiv.org/abs/2404.14619', 'bonus': [{'type': 'repo', 'title': 'CoreNet Repository', 'url': 'https://github.com/apple/corenet'}], 'updated': '2024-05-25', 'date': '2024-05-25'}\n",
      "---\n",
      "{'id': 'apple/openelm-3b-instruct', 'name': 'OpenELM-3B-Instruct', 'release_date': '2024-04-22', 'from': 'apple', 'usage_type': 'GP-LLM', 'description': '', 'readme': {'link': 'https://huggingface.co/apple/OpenELM-3B-Instruct/blob/main/README.md', 'raw': 'https://huggingface.co/apple/OpenELM-3B-Instruct/raw/main/README.md'}, 'model': {'architecture': 'Transformer', 'subtype': 'decoder-only', 'insights': ['layer-wise-scaling', 'flash-attention'], 'parameters': '3B', 'active_parameters': '3B', 'context_size': '2048', 'tokenizer': 'SentencePiece', 'hidden_size': '3072', 'vocab_size': '32000', 'positional_embedding': 'RoPE', 'attention_variant': 'grouped-query attention', 'activation': 'SwiGLU'}, 'training': {'tokens': '1.8T'}, 'license': 'Apple-sample-code-license', 'license_url': 'https://huggingface.co/apple/OpenELM-3B-Instruct/blob/main/LICENSE', 'download': 'https://huggingface.co/apple/OpenELM-3B-Instruct', 'paper': 'https://arxiv.org/pdf/2404.14619', 'bonus': [{'type': 'repo', 'title': 'CoreNet Repository', 'url': 'https://github.com/apple/corenet'}], 'updated': '2024-05-25', 'date': '2024-05-25'}\n",
      "---\n",
      "{'id': 'apple/openelm-3b', 'name': 'OpenELM-3B', 'release_date': '2024-04-22', 'from': 'apple', 'usage_type': 'GP-LLM', 'description': '', 'readme': {'link': 'https://huggingface.co/apple/OpenELM-3B/blob/main/README.md', 'raw': 'https://huggingface.co/apple/OpenELM-3B/raw/main/README.md'}, 'model': {'architecture': 'Transformer', 'subtype': 'decoder-only', 'insights': ['layer-wise-scaling', 'flash-attention'], 'parameters': '3B', 'active_parameters': '3B', 'context_size': '2048', 'tokenizer': 'SentencePiece', 'hidden_size': '3072', 'vocab_size': '32000', 'positional_embedding': 'RoPE', 'attention_variant': 'grouped-query attention', 'activation': 'SwiGLU'}, 'training': {'tokens': '1.8T'}, 'license': 'Apple-sample-code-license', 'license_url': 'https://huggingface.co/apple/OpenELM-3B/blob/main/LICENSE', 'download': 'https://huggingface.co/apple/OpenELM-3B', 'paper': 'https://arxiv.org/pdf/2404.14619', 'bonus': [{'type': 'repo', 'title': 'CoreNet Repository', 'url': 'https://github.com/apple/corenet'}], 'updated': '2024-05-25', 'date': '2024-05-25'}\n",
      "---\n",
      "{'id': 'apple/openelm-450m-instruct', 'name': 'OpenELM-450M-Instruct', 'release_date': '2024-04-22', 'from': 'apple', 'usage_type': 'GP-LLM', 'description': '', 'readme': {'link': 'https://huggingface.co/apple/OpenELM-450M-Instruct/blob/main/README.md', 'raw': 'https://huggingface.co/apple/OpenELM-450M-Instruct/raw/main/README.md'}, 'model': {'architecture': 'Transformer', 'subtype': 'decoder-only', 'insights': ['layer-wise-scaling', 'flash-attention'], 'parameters': '470M', 'active_parameters': '470M', 'context_size': '2048', 'tokenizer': 'SentencePiece', 'hidden_size': '1536', 'vocab_size': '32000', 'positional_embedding': 'RoPE', 'attention_variant': 'grouped-query attention', 'activation': 'SwiGLU'}, 'training': {'tokens': '1.8T'}, 'license': 'Apple-sample-code-license', 'license_url': 'https://huggingface.co/apple/OpenELM-450M-Instruct/blob/main/LICENSE', 'download': 'https://huggingface.co/apple/OpenELM-450M-Instruct', 'paper': 'https://arxiv.org/pdf/2404.14619', 'bonus': [{'type': 'repo', 'title': 'CoreNet Repository', 'url': 'https://github.com/apple/corenet'}], 'updated': '2024-05-25', 'date': '2024-05-25'}\n",
      "---\n",
      "{'id': 'apple/openelm-450m', 'name': 'OpenELM-450M', 'release_date': '2024-04-22', 'from': 'apple', 'usage_type': 'GP-LLM', 'description': '', 'readme': {'link': 'https://huggingface.co/apple/OpenELM-450M/blob/main/README.md', 'raw': 'https://huggingface.co/apple/OpenELM-450M/raw/main/README.md'}, 'model': {'architecture': 'Transformer', 'subtype': 'decoder-only', 'insights': ['layer-wise-scaling', 'flash-attention'], 'parameters': '470M', 'active_parameters': '470M', 'context_size': '2048', 'tokenizer': 'SentencePiece', 'hidden_size': '1536', 'vocab_size': '32000', 'positional_embedding': 'RoPE', 'attention_variant': 'grouped-query attention', 'activation': 'SwiGLU'}, 'training': {'tokens': '1.8T'}, 'license': 'Apple-sample-code-license', 'license_url': 'https://huggingface.co/apple/OpenELM-450M/blob/main/LICENSE', 'download': 'https://huggingface.co/apple/OpenELM-450M', 'paper': 'https://arxiv.org/pdf/2404.14619', 'bonus': [{'type': 'repo', 'title': 'CoreNet Repository', 'url': 'https://github.com/apple/corenet'}], 'updated': '2024-05-25', 'date': '2024-05-25'}\n",
      "---\n"
     ]
    }
   ],
   "source": [
    "from datetime import date\n",
    "import os\n",
    "import json\n",
    "\n",
    "# fetch json from file\n",
    "dir = './apple'\n",
    "files = os.listdir(dir)\n",
    "\n",
    "for file in files:\n",
    "  with open(f'{dir}/{file}', 'r') as f:\n",
    "    data = json.load(f)\n",
    "    print(data)\n",
    "    print('---')\n",
    "    \n",
    "    # add readme section\n",
    "    readme = {\n",
    "      'link': f'https://huggingface.co/apple/{data[\"name\"]}/blob/main/README.md',\n",
    "      'raw': f'https://huggingface.co/apple/{data[\"name\"]}/raw/main/README.md'\n",
    "    }\n",
    "    \n",
    "    bonus = [\n",
    "      {\n",
    "        \"type\": \"repo\",\n",
    "        \"title\": \"CoreNet Repository\",\n",
    "        \"url\": \"https://github.com/apple/corenet\" \n",
    "      }\n",
    "    ]\n",
    "    \n",
    "    if 'date' in data:\n",
    "      #delete data['date']\n",
    "      data.pop('date')\n",
    "    \n",
    "    data['readme'] = readme\n",
    "    data['bonus'] = bonus\n",
    "    data['from'] = 'apple'\n",
    "    data['model']['insights'] = [\n",
    "      \"layer-wise-scaling\", \"flash-attention\"\n",
    "    ]\n",
    "    \n",
    "    \n",
    "    # update date\n",
    "    data['updated'] = date.today().strftime('%Y-%m-%d')\n",
    "    \n",
    "  with open(f'{dir}/{file}', 'w') as f:\n",
    "    json.dump(data, f, indent=2)\n",
    "    "
   ]
  }
 ],
 "metadata": {
  "kernelspec": {
   "display_name": "Python 3",
   "language": "python",
   "name": "python3"
  },
  "language_info": {
   "codemirror_mode": {
    "name": "ipython",
    "version": 3
   },
   "file_extension": ".py",
   "mimetype": "text/x-python",
   "name": "python",
   "nbconvert_exporter": "python",
   "pygments_lexer": "ipython3",
   "version": "3.10.6"
  }
 },
 "nbformat": 4,
 "nbformat_minor": 2
}
